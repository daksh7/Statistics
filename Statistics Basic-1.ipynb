{
 "cells": [
  {
   "cell_type": "code",
   "execution_count": 1,
   "id": "08481723",
   "metadata": {},
   "outputs": [],
   "source": [
    "# Q1. What is Statistics?\n",
    "\n",
    "# It is the science of collecting, organizing and analyzing the data. "
   ]
  },
  {
   "cell_type": "code",
   "execution_count": 2,
   "id": "6e558c74",
   "metadata": {},
   "outputs": [],
   "source": [
    "# Q2. Define the different types of statistics and give an example of when each type might be used.\n",
    "\n",
    "# 1. Descriptive statistics - ex. measure of central tendency, measure of distribution, etc\n",
    "# 2.Inferential statistics - ex. - z-test, t-test, etc."
   ]
  },
  {
   "cell_type": "code",
   "execution_count": 3,
   "id": "a194113e",
   "metadata": {},
   "outputs": [],
   "source": [
    "# Q3. What are the different types of data and how do they differ from each other? Provide an example of each type of data.\n",
    "\n",
    "# Quantitave data (discrete & continuous) - Numerical data. Age, height, wight\n",
    "# Qualitative data(Nominal & Ordinal) - categorical data. Gender, customer feedback(Good, bad, better)"
   ]
  },
  {
   "cell_type": "code",
   "execution_count": 4,
   "id": "86ae2b7f",
   "metadata": {},
   "outputs": [],
   "source": [
    "# Q4. Categorise the following datasets with respect to quantitative and qualitative data types:\n",
    "# (i) Grading in exam: A+, A, B+, B, C+, C, D, E  - Qualitative(ordinal)\n",
    "# (ii) Colour of mangoes: yellow, green, orange, red - Qualitative(nominal)\n",
    "# (iii) Height data of a class: [178.9, 179, 179.5, 176, 177.2, 178.3, 175.8,...] - Qunatitave(continuous)\n",
    "# (iv) Number of mangoes exported by a farm: [500, 600, 478, 672, ...] - Quantitative (Discrete)"
   ]
  },
  {
   "cell_type": "code",
   "execution_count": 5,
   "id": "ec6b4ac3",
   "metadata": {},
   "outputs": [],
   "source": [
    "# Q5. Explain the concept of levels of measurement and give an example of a variable for each level.\n",
    "# Nominal \n",
    "# Ordinal \n",
    "# Interval\n",
    "# Ratio"
   ]
  },
  {
   "cell_type": "code",
   "execution_count": 6,
   "id": "3a741ab8",
   "metadata": {},
   "outputs": [],
   "source": [
    "# Q6. Why is it important to understand the level of measurement when analyzing data? Provide an example to illustrate your answer.\n",
    "# it is important to understand the level of measurement when analyzing the data as it determines the type of analyses need to be applied to analyze the data. "
   ]
  },
  {
   "cell_type": "code",
   "execution_count": 7,
   "id": "1f3f04e5",
   "metadata": {},
   "outputs": [],
   "source": [
    "# Q7. How nominal data type is different from ordinal data type.\n",
    "\n",
    "# Nominal data are the ones which does not have any order. like Gender, blood group. \n",
    "# Ordinal data are the ones to which we can provide order, like customer feedback, ratings"
   ]
  },
  {
   "cell_type": "code",
   "execution_count": 8,
   "id": "04e6a01c",
   "metadata": {},
   "outputs": [],
   "source": [
    "# Q8. Which type of plot can be used to display data in terms of range?\n",
    "# Box-plot"
   ]
  },
  {
   "cell_type": "code",
   "execution_count": 9,
   "id": "5918c25f",
   "metadata": {},
   "outputs": [],
   "source": [
    "# Q9. Describe the difference between descriptive and inferential statistics. Give an example of each\n",
    "# type of statistics and explain how they are used.\n",
    "\n",
    "# Descriptive statistics - It consists of organizing and summarizing data. \n",
    "# Inferential statisticss - It consists of using data you have measured to form conclusion"
   ]
  },
  {
   "cell_type": "code",
   "execution_count": null,
   "id": "6589d800",
   "metadata": {},
   "outputs": [],
   "source": [
    "# Q10. What are some common measures of central tendency and variability used in statistics? Explain\n",
    "# how each measure can be used to describe a dataset.\n",
    "\n",
    "# Mean \n",
    "# Median\n",
    "# Mode\n",
    "# Variance\n",
    "# Standard deviation"
   ]
  }
 ],
 "metadata": {
  "kernelspec": {
   "display_name": "Python 3 (ipykernel)",
   "language": "python",
   "name": "python3"
  },
  "language_info": {
   "codemirror_mode": {
    "name": "ipython",
    "version": 3
   },
   "file_extension": ".py",
   "mimetype": "text/x-python",
   "name": "python",
   "nbconvert_exporter": "python",
   "pygments_lexer": "ipython3",
   "version": "3.9.12"
  }
 },
 "nbformat": 4,
 "nbformat_minor": 5
}
