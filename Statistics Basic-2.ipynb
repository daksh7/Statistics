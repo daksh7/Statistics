{
 "cells": [
  {
   "cell_type": "code",
   "execution_count": 1,
   "id": "f33ddee7",
   "metadata": {},
   "outputs": [],
   "source": [
    "# Q1. What are the three measures of central tendency?\n",
    "\n",
    "# Mean\n",
    "# Median\n",
    "# Mode"
   ]
  },
  {
   "cell_type": "code",
   "execution_count": 2,
   "id": "eab983fd",
   "metadata": {},
   "outputs": [],
   "source": [
    "# Q2. What is the difference between the mean, median, and mode? How are they used to measure the central tendency of a dataset?\n",
    "# mean = is average of the data. \n",
    "# Median = is the middle value of the data when data is ordered in ascending order. \n",
    "# Mode - most occuring value is mode. \n",
    "\n",
    "# Mean is sensitive to outliers. \n",
    "# Median - is used when their is an outlier in the data. it is not sensitive to outliers. \n",
    "# Mode - is used in terms of categoricl data. "
   ]
  },
  {
   "cell_type": "code",
   "execution_count": 3,
   "id": "c4768e38",
   "metadata": {},
   "outputs": [],
   "source": [
    "# Q3. Measure the three measures of central tendency for the given height data:\n",
    "data = [178,177,176,177,178.2,178,175,179,180,175,178.9,176.2,177,172.5,178,176.5]"
   ]
  },
  {
   "cell_type": "code",
   "execution_count": 7,
   "id": "e47f9188",
   "metadata": {},
   "outputs": [],
   "source": [
    "import numpy as np\n",
    "from scipy import stats"
   ]
  },
  {
   "cell_type": "code",
   "execution_count": 5,
   "id": "3ed571c0",
   "metadata": {},
   "outputs": [
    {
     "data": {
      "text/plain": [
       "177.01875"
      ]
     },
     "execution_count": 5,
     "metadata": {},
     "output_type": "execute_result"
    }
   ],
   "source": [
    "np.mean(data)"
   ]
  },
  {
   "cell_type": "code",
   "execution_count": 6,
   "id": "3bbede30",
   "metadata": {},
   "outputs": [
    {
     "data": {
      "text/plain": [
       "177.0"
      ]
     },
     "execution_count": 6,
     "metadata": {},
     "output_type": "execute_result"
    }
   ],
   "source": [
    "np.median(data)"
   ]
  },
  {
   "cell_type": "code",
   "execution_count": 8,
   "id": "f2eca5e8",
   "metadata": {},
   "outputs": [
    {
     "data": {
      "text/plain": [
       "ModeResult(mode=array([177.]), count=array([3]))"
      ]
     },
     "execution_count": 8,
     "metadata": {},
     "output_type": "execute_result"
    }
   ],
   "source": [
    "stats.mode(data)"
   ]
  },
  {
   "cell_type": "code",
   "execution_count": 9,
   "id": "3ad33664",
   "metadata": {},
   "outputs": [],
   "source": [
    "# Q4. Find the standard deviation for the given data:\n",
    "d2 = [178,177,176,177,178.2,178,175,179,180,175,178.9,176.2,177,172.5,178,176.5]"
   ]
  },
  {
   "cell_type": "code",
   "execution_count": 10,
   "id": "d5980ad6",
   "metadata": {},
   "outputs": [
    {
     "data": {
      "text/plain": [
       "1.7885814036548633"
      ]
     },
     "execution_count": 10,
     "metadata": {},
     "output_type": "execute_result"
    }
   ],
   "source": [
    "np.std(d2)"
   ]
  },
  {
   "cell_type": "code",
   "execution_count": 11,
   "id": "3c3e8a40",
   "metadata": {},
   "outputs": [],
   "source": [
    "# Q5. How are measures of dispersion such as range, variance, and standard deviation used to describe the spread of a dataset? Provide an example.\n",
    "# Range - it measures by looking at the differece between max & min. \n",
    "# variance - is measured by checking how much data devaites from the mean. \n",
    "# Std - is sqaure root of variance. \n"
   ]
  },
  {
   "cell_type": "code",
   "execution_count": 12,
   "id": "e47e9f20",
   "metadata": {},
   "outputs": [],
   "source": [
    "# Q6. What is a Venn diagram?\n",
    "# A graphical representation of the data that define the relationship between different groups. \n"
   ]
  },
  {
   "cell_type": "code",
   "execution_count": 13,
   "id": "f01f518c",
   "metadata": {},
   "outputs": [],
   "source": [
    "# Q7. For the two given sets A = (2,3,4,5,6,7) & B = (0,2,6,8,10). Find:\n",
    "# (i) A  B - {2, 6}"
   ]
  },
  {
   "cell_type": "code",
   "execution_count": 14,
   "id": "74c251e4",
   "metadata": {},
   "outputs": [],
   "source": [
    "# (ii) A ⋃ B - {0,2,3,4,5,6,7,8,10}"
   ]
  },
  {
   "cell_type": "code",
   "execution_count": 15,
   "id": "77030b58",
   "metadata": {},
   "outputs": [],
   "source": [
    "# Q8. What do you understand about skewness in data?\n",
    "\n",
    "# Skewness means whether the data is +ve skewed , -vely skewed, or aprroximately. it helps in detemining th relationship b/w mean, media, mode of the data.  "
   ]
  },
  {
   "cell_type": "code",
   "execution_count": 16,
   "id": "9bb9a1a1",
   "metadata": {},
   "outputs": [],
   "source": [
    "# Q9. If a data is right skewed then what will be the position of median with respect to mean?\n",
    "\n",
    "# mean >= median"
   ]
  },
  {
   "cell_type": "code",
   "execution_count": 18,
   "id": "b7adc3a6",
   "metadata": {},
   "outputs": [],
   "source": [
    "# Q10. Explain the difference between covariance and correlation. How are these measures used in statistical analysis?\n",
    "\n",
    "# covariance is not limited, we cannot determine whether how much it is covariated, it can be of any value. in this it determines how much two variables are dependent on each other.\n",
    "# while correlation restricts that and it has a range [-1 to +1]. it determines, how strongly two variables are related. \n"
   ]
  },
  {
   "cell_type": "code",
   "execution_count": 26,
   "id": "8a1b52d6",
   "metadata": {},
   "outputs": [
    {
     "data": {
      "text/html": [
       "<div>\n",
       "<style scoped>\n",
       "    .dataframe tbody tr th:only-of-type {\n",
       "        vertical-align: middle;\n",
       "    }\n",
       "\n",
       "    .dataframe tbody tr th {\n",
       "        vertical-align: top;\n",
       "    }\n",
       "\n",
       "    .dataframe thead th {\n",
       "        text-align: right;\n",
       "    }\n",
       "</style>\n",
       "<table border=\"1\" class=\"dataframe\">\n",
       "  <thead>\n",
       "    <tr style=\"text-align: right;\">\n",
       "      <th></th>\n",
       "      <th>total_bill</th>\n",
       "      <th>tip</th>\n",
       "      <th>sex</th>\n",
       "      <th>smoker</th>\n",
       "      <th>day</th>\n",
       "      <th>time</th>\n",
       "      <th>size</th>\n",
       "    </tr>\n",
       "  </thead>\n",
       "  <tbody>\n",
       "    <tr>\n",
       "      <th>0</th>\n",
       "      <td>16.99</td>\n",
       "      <td>1.01</td>\n",
       "      <td>Female</td>\n",
       "      <td>No</td>\n",
       "      <td>Sun</td>\n",
       "      <td>Dinner</td>\n",
       "      <td>2</td>\n",
       "    </tr>\n",
       "    <tr>\n",
       "      <th>1</th>\n",
       "      <td>10.34</td>\n",
       "      <td>1.66</td>\n",
       "      <td>Male</td>\n",
       "      <td>No</td>\n",
       "      <td>Sun</td>\n",
       "      <td>Dinner</td>\n",
       "      <td>3</td>\n",
       "    </tr>\n",
       "    <tr>\n",
       "      <th>2</th>\n",
       "      <td>21.01</td>\n",
       "      <td>3.50</td>\n",
       "      <td>Male</td>\n",
       "      <td>No</td>\n",
       "      <td>Sun</td>\n",
       "      <td>Dinner</td>\n",
       "      <td>3</td>\n",
       "    </tr>\n",
       "    <tr>\n",
       "      <th>3</th>\n",
       "      <td>23.68</td>\n",
       "      <td>3.31</td>\n",
       "      <td>Male</td>\n",
       "      <td>No</td>\n",
       "      <td>Sun</td>\n",
       "      <td>Dinner</td>\n",
       "      <td>2</td>\n",
       "    </tr>\n",
       "    <tr>\n",
       "      <th>4</th>\n",
       "      <td>24.59</td>\n",
       "      <td>3.61</td>\n",
       "      <td>Female</td>\n",
       "      <td>No</td>\n",
       "      <td>Sun</td>\n",
       "      <td>Dinner</td>\n",
       "      <td>4</td>\n",
       "    </tr>\n",
       "  </tbody>\n",
       "</table>\n",
       "</div>"
      ],
      "text/plain": [
       "   total_bill   tip     sex smoker  day    time  size\n",
       "0       16.99  1.01  Female     No  Sun  Dinner     2\n",
       "1       10.34  1.66    Male     No  Sun  Dinner     3\n",
       "2       21.01  3.50    Male     No  Sun  Dinner     3\n",
       "3       23.68  3.31    Male     No  Sun  Dinner     2\n",
       "4       24.59  3.61  Female     No  Sun  Dinner     4"
      ]
     },
     "execution_count": 26,
     "metadata": {},
     "output_type": "execute_result"
    }
   ],
   "source": [
    "# Q11. What is the formula for calculating the sample mean? Provide an example calculation for a dataset.\n",
    "import seaborn as sns\n",
    "df = sns.load_dataset(\"tips\")\n",
    "df.head()"
   ]
  },
  {
   "cell_type": "code",
   "execution_count": 28,
   "id": "e4c8ea54",
   "metadata": {},
   "outputs": [
    {
     "data": {
      "text/plain": [
       "19.785942622950824"
      ]
     },
     "execution_count": 28,
     "metadata": {},
     "output_type": "execute_result"
    }
   ],
   "source": [
    "np.mean(df.total_bill)"
   ]
  },
  {
   "cell_type": "code",
   "execution_count": 31,
   "id": "7b4f7f86",
   "metadata": {},
   "outputs": [],
   "source": [
    "# Q12. For a normal distribution data what is the relationship between its measure of central tendency?\n",
    "\n",
    "# mean = median = mode"
   ]
  },
  {
   "cell_type": "code",
   "execution_count": 32,
   "id": "1b73e939",
   "metadata": {},
   "outputs": [],
   "source": [
    "# Q13. How is covariance different from correlation?\n",
    "# covariance is not limited, we cannot determine whether how much it is covariated, it can be of any value. in this it determines how much two variables are dependent on each other.\n",
    "# while correlation restricts that and it has a range [-1 to +1]. it determines, how strongly two variables are related. \n"
   ]
  },
  {
   "cell_type": "code",
   "execution_count": 35,
   "id": "33050525",
   "metadata": {},
   "outputs": [
    {
     "data": {
      "text/plain": [
       "3.8"
      ]
     },
     "execution_count": 35,
     "metadata": {},
     "output_type": "execute_result"
    }
   ],
   "source": [
    "# Q14. How do outliers affect measures of central tendency and dispersion? Provide an example.\n",
    "\n",
    "# Mean is highly sensitive to the outliers, while median is not and outliers can left or right skewness in the data. means our data will have higher variance.\n",
    "# Example\n",
    "# without outlier\n",
    "d3 = [1,2,3,6,7]\n",
    "np.mean(d3)"
   ]
  },
  {
   "cell_type": "code",
   "execution_count": 36,
   "id": "b4ce9f28",
   "metadata": {},
   "outputs": [
    {
     "data": {
      "text/plain": [
       "5.36"
      ]
     },
     "execution_count": 36,
     "metadata": {},
     "output_type": "execute_result"
    }
   ],
   "source": [
    "np.var(d3)"
   ]
  },
  {
   "cell_type": "code",
   "execution_count": 34,
   "id": "d584b9a5",
   "metadata": {},
   "outputs": [
    {
     "data": {
      "text/plain": [
       "17.6"
      ]
     },
     "execution_count": 34,
     "metadata": {},
     "output_type": "execute_result"
    }
   ],
   "source": [
    "# with Outlier\n",
    "d4 = [1,2,3,6,76]\n",
    "np.mean(d4)"
   ]
  },
  {
   "cell_type": "code",
   "execution_count": 37,
   "id": "bc2344b9",
   "metadata": {},
   "outputs": [
    {
     "data": {
      "text/plain": [
       "855.4399999999999"
      ]
     },
     "execution_count": 37,
     "metadata": {},
     "output_type": "execute_result"
    }
   ],
   "source": [
    "np.var(d4)"
   ]
  }
 ],
 "metadata": {
  "kernelspec": {
   "display_name": "Python 3 (ipykernel)",
   "language": "python",
   "name": "python3"
  },
  "language_info": {
   "codemirror_mode": {
    "name": "ipython",
    "version": 3
   },
   "file_extension": ".py",
   "mimetype": "text/x-python",
   "name": "python",
   "nbconvert_exporter": "python",
   "pygments_lexer": "ipython3",
   "version": "3.9.12"
  }
 },
 "nbformat": 4,
 "nbformat_minor": 5
}
