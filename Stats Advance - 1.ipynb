{
 "cells": [
  {
   "cell_type": "markdown",
   "id": "e7d99277",
   "metadata": {},
   "source": [
    "**Q1. What is the Probability density function?**\n",
    "\n",
    "- Probablity density function is used to show the distribution of continuous random variable. \n"
   ]
  },
  {
   "cell_type": "markdown",
   "id": "2fad3f48",
   "metadata": {},
   "source": [
    "**Q2. What are the types of Probability distribution?**\n",
    "\n",
    "- Probability Mass function. \n",
    "- Probability distribution function. \n",
    "- cummalaive distribution function."
   ]
  },
  {
   "cell_type": "markdown",
   "id": "89bbed18",
   "metadata": {},
   "source": [
    "**Q3. Write a Python function to calculate the probability density function of a normal distribution with given mean and standard deviation at a given point.**"
   ]
  },
  {
   "cell_type": "markdown",
   "id": "132cce92",
   "metadata": {},
   "source": [
    "**Q4. What are the properties of Binomial distribution? Give two examples of events where binomial\n",
    "distribution can be applied.**\n",
    "\n",
    "- Discrete random variable. \n",
    "- Every experiment outcome is binary. \n",
    "- This experiment can be performed for n times. \n",
    "- Single trial is clled bernaulli distribution and if we group all the trials then it is called binomial distribution. "
   ]
  },
  {
   "cell_type": "markdown",
   "id": "1519cb3a",
   "metadata": {},
   "source": [
    "**Q5. Generate a random sample of size 1000 from a binomial distribution with probability of success 0.4\n",
    "and plot a histogram of the results using matplotlib.**"
   ]
  },
  {
   "cell_type": "code",
   "execution_count": 38,
   "id": "bcce07c9",
   "metadata": {},
   "outputs": [
    {
     "data": {
      "image/png": "[encoded data removed]",
      "text/plain": [
       "<Figure size 432x288 with 1 Axes>"
      ]
     },
     "metadata": {
      "needs_background": "light"
     },
     "output_type": "display_data"
    }
   ],
   "source": [
    "import numpy as np\n",
    "import matplotlib.pyplot as plt\n",
    "\n",
    "sample_size = 1000\n",
    "p = 0.4\n",
    "\n",
    "random_sample = np.random.binomial(1,p,sample_size)\n",
    "\n",
    "plt.hist(random_sample, bins=[0, 1, 2], align= \"left\",rwidth=0.8)\n",
    "plt.xticks([0, 1], [\"Failure\", \"Success\"])\n",
    "plt.xlabel(\"Outcome\")\n",
    "plt.ylabel(\"Frequency\")\n",
    "plt.show()"
   ]
  },
  {
   "cell_type": "markdown",
   "id": "af7e8998",
   "metadata": {},
   "source": [
    "**Q6. Write a Python function to calculate the cumulative distribution function of a Poisson distribution\n",
    "with given mean at a given point.**"
   ]
  },
  {
   "cell_type": "markdown",
   "id": "5feee57c",
   "metadata": {},
   "source": [
    "**Q7. How Binomial distribution different from Poisson distribution?**\n",
    "\n",
    "- The number of intervals in poisson distribution occurs in a fixed time interval. while in Binomial the random variable is dependent on the number of success in fixed trials. "
   ]
  },
  {
   "cell_type": "markdown",
   "id": "6de00f4e",
   "metadata": {},
   "source": [
    "**Q8. Generate a random sample of size 1000 from a Poisson distribution with mean 5 and calculate the\n",
    "sample mean and variance.**"
   ]
  },
  {
   "cell_type": "code",
   "execution_count": 37,
   "id": "3c73416d",
   "metadata": {},
   "outputs": [
    {
     "name": "stdout",
     "output_type": "stream",
     "text": [
      "Sample mean: 5.107\n",
      "Sample variance: 4.553551000000001\n"
     ]
    }
   ],
   "source": [
    "sample_size = 1000\n",
    "mean = 5\n",
    "random_sample = np.random.poisson(mean, sample_size)\n",
    "\n",
    "s_mean = np.mean(random_sample)\n",
    "s_var = np.var(random_sample)\n",
    "\n",
    "print(f\"Sample mean: {s_mean}\")\n",
    "print(f\"Sample variance: {s_var}\")"
   ]
  },
  {
   "cell_type": "markdown",
   "id": "a5218357",
   "metadata": {},
   "source": [
    "**Q9. How mean and variance are related in Binomial distribution and Poisson distribution?**\n",
    "\n",
    "- In bionomial mean is greater than variance. While, in poisson mean = variance. "
   ]
  },
  {
   "cell_type": "markdown",
   "id": "fe43f84c",
   "metadata": {},
   "source": [
    "**Q10. In normal distribution with respect to mean position, where does the least frequent data appear?**\n",
    "\n",
    "- At the end of the tails means far away from mean. "
   ]
  },
  {
   "cell_type": "code",
   "execution_count": null,
   "id": "9287148e",
   "metadata": {},
   "outputs": [],
   "source": []
  }
 ],
 "metadata": {
  "kernelspec": {
   "display_name": "Python 3 (ipykernel)",
   "language": "python",
   "name": "python3"
  },
  "language_info": {
   "codemirror_mode": {
    "name": "ipython",
    "version": 3
   },
   "file_extension": ".py",
   "mimetype": "text/x-python",
   "name": "python",
   "nbconvert_exporter": "python",
   "pygments_lexer": "ipython3",
   "version": "3.9.12"
  }
 },
 "nbformat": 4,
 "nbformat_minor": 5
}
