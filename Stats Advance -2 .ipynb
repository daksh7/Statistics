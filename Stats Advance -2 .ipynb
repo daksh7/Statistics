{
 "cells": [
  {
   "cell_type": "markdown",
   "id": "c027cac6",
   "metadata": {},
   "source": [
    "**Q1: What are the Probability Mass Function (PMF) and Probability Density Function (PDF)? Explain with\n",
    "an example.**\n",
    "\n",
    "-  PMF - is used for discrete random variable. (ex:  rolling a dice)\n",
    "- PDF - is used for conitnuous random variable. (ex: height of a student in a class )"
   ]
  },
  {
   "cell_type": "markdown",
   "id": "c6fb6225",
   "metadata": {},
   "source": [
    "**Q2: What is Cumulative Density Function (CDF)? Explain with an example. Why CDF is used?**\n",
    "\n",
    "- CDF - displays the cummalative distribution of multivariate variables. (ex - questions which are asking less than or grater than to a particular value.)"
   ]
  },
  {
   "cell_type": "markdown",
   "id": "ee1682fb",
   "metadata": {},
   "source": [
    "**Q3: What are some examples of situations where the normal distribution might be used as a model?\n",
    "Explain how the parameters of the normal distribution relate to the shape of the distribution.**\n",
    "\n",
    "- Weights of the students in the class. \n",
    "- Height of the students in the class. \n",
    "- Sepal width - Iris dataset\n",
    "\n",
    "- It represents the bell shaped figure, where mean = median = mode. It changes as the parameters values changes. "
   ]
  },
  {
   "cell_type": "markdown",
   "id": "10090694",
   "metadata": {},
   "source": [
    "**Q4: Explain the importance of Normal Distribution. Give a few real-life examples of Normal\n",
    "Distribution.**\n",
    "\n",
    "- The importance of normal distribution is that it is widely used to model many real world problems like Height & weights of students, test scores, etc"
   ]
  },
  {
   "cell_type": "markdown",
   "id": "59d9aaad",
   "metadata": {},
   "source": [
    "**Q5: What is Bernaulli Distribution? Give an Example. What is the difference between Bernoulli\n",
    "Distribution and Binomial Distribution?**\n",
    "\n",
    "- Discrete random variable. \n",
    "- Outcomes are binary. \n",
    "\n",
    "- It represents the success or failure of the single trail while binomial represents the success/failure in n number of trails. "
   ]
  },
  {
   "cell_type": "markdown",
   "id": "18456308",
   "metadata": {},
   "source": [
    "**Q6. Consider a dataset with a mean of 50 and a standard deviation of 10. If we assume that the dataset\n",
    "is normally distributed, what is the probability that a randomly selected observation will be greater\n",
    "than 60? Use the appropriate formula and show your calculations.**"
   ]
  },
  {
   "cell_type": "code",
   "execution_count": 9,
   "id": "243fb0cd",
   "metadata": {},
   "outputs": [
    {
     "name": "stdout",
     "output_type": "stream",
     "text": [
      "the probability > 60 is : 15.87%\n"
     ]
    }
   ],
   "source": [
    "mean = 50\n",
    "std = 10\n",
    "x = 60\n",
    "\n",
    "z = (x - mean)/std\n",
    "\n",
    "z_score = 1 - 0.8413\n",
    "\n",
    "print(f\"the probability > 60 is : {round(z_score*100,2)}%\")"
   ]
  },
  {
   "cell_type": "markdown",
   "id": "32a1e444",
   "metadata": {},
   "source": [
    "**Q7: Explain uniform Distribution with an example.**\n",
    "\n",
    "- Continuous Uniform distribution:\n",
    "  - the outcome lies between the certain bounds Min. or max. \n",
    "- Discrete Uniform distribution. \n",
    "  - in this equal number of outcomes likely to happen.  "
   ]
  },
  {
   "cell_type": "markdown",
   "id": "f3013f68",
   "metadata": {},
   "source": [
    "**Q8: What is the z score? State the importance of the z score.**\n",
    "\n",
    "- Z-score - It tells how many standard deviation away from mean your data lies. \n",
    "\n",
    "- The Z-score is used to convert the normal distribution to standard normal distribution. "
   ]
  },
  {
   "cell_type": "markdown",
   "id": "6125cd79",
   "metadata": {},
   "source": [
    "**Q9: What is Central Limit Theorem? State the significance of the Central Limit Theorem.**\n",
    "\n",
    "- The sampling distribution of the mean will always be normally distributed  as long as the sample size is long enough. regardles of the population data be of bernaulli, bionomial or poisson distribution. "
   ]
  },
  {
   "cell_type": "markdown",
   "id": "97e22b7e",
   "metadata": {},
   "source": [
    "**Q10: State the assumptions of the Central Limit Theorem.**\n",
    "\n",
    "-  The data should be randomly sampled. \n",
    "- It should be independent of each other. \n",
    "- sample size should be lar"
   ]
  }
 ],
 "metadata": {
  "kernelspec": {
   "display_name": "Python 3 (ipykernel)",
   "language": "python",
   "name": "python3"
  },
  "language_info": {
   "codemirror_mode": {
    "name": "ipython",
    "version": 3
   },
   "file_extension": ".py",
   "mimetype": "text/x-python",
   "name": "python",
   "nbconvert_exporter": "python",
   "pygments_lexer": "ipython3",
   "version": "3.9.12"
  }
 },
 "nbformat": 4,
 "nbformat_minor": 5
}
